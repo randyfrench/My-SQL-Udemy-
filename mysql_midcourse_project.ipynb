{
 "cells": [
  {
   "cell_type": "code",
   "execution_count": null,
   "id": "51579d11-ac8b-4aa7-b985-1efbb0637890",
   "metadata": {},
   "outputs": [],
   "source": [
    "# SQL for Data Analysis: Beginner MySQL Business Intelligence\n",
    "-- Mid Course Project Question 1\n",
    "SELECT\n",
    "\tfirst_name,\n",
    "    last_name,\n",
    "    email,\n",
    "    store_id\n",
    "FROM staff\n",
    "\n",
    "-- Mid Course Project Question 2\n",
    "SELECT \n",
    "    store_id,\n",
    "    COUNT(inventory_id) AS inventory_itmes\n",
    "FROM inventory\n",
    "GROUP BY store_id\n",
    "\n",
    "-- Mid Course Project Question 3\n",
    "SELECT \n",
    "\tstore_id,\n",
    "    COUNT(customer_id) AS active_customers\n",
    "FROM customer\n",
    "WHERE active = 1\n",
    "GROUP BY\n",
    "\tstore_id"
   ]
  }
 ],
 "metadata": {
  "kernelspec": {
   "display_name": "Python 3",
   "language": "python",
   "name": "python3"
  },
  "language_info": {
   "codemirror_mode": {
    "name": "ipython",
    "version": 3
   },
   "file_extension": ".py",
   "mimetype": "text/x-python",
   "name": "python",
   "nbconvert_exporter": "python",
   "pygments_lexer": "ipython3",
   "version": "3.8.8"
  }
 },
 "nbformat": 4,
 "nbformat_minor": 5
}
